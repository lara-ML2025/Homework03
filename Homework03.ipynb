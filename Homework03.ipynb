{
 "cells": [
  {
   "cell_type": "markdown",
   "metadata": {
    "id": "QshK8s21WBrf"
   },
   "source": [
    "# Homework03\n",
    "\n",
    "Some exercises to get started with Python, lists, dicts and datasets in Python.\n",
    "\n",
    "## Goals\n",
    "\n",
    "- Gain experience with a popular scripting language used for ML/AI projects and research\n",
    "- Get familiar with Python's notation for lists and objects\n",
    "- Experiment with Python's unique functionalities for processing lists and objects\n",
    "- Learn to load and process datasets using Python"
   ]
  },
  {
   "cell_type": "markdown",
   "metadata": {
    "id": "7Hf8SXUwWOho"
   },
   "source": [
    "### Setup\n",
    "\n",
    "Run the following 2 cells to import all necessary libraries and helpers for Homework 02"
   ]
  },
  {
   "cell_type": "code",
   "execution_count": null,
   "metadata": {},
   "outputs": [],
   "source": [
    "!wget -q https://github.com/PSAM-5020-2025F-A/5020-utils/raw/main/src/data_utils.py"
   ]
  },
  {
   "cell_type": "code",
   "execution_count": null,
   "metadata": {},
   "outputs": [],
   "source": [
    "import matplotlib.pyplot as plt\n",
    "\n",
    "from Homework03_utils import Tests\n",
    "from data_utils import object_from_json_url"
   ]
  },
  {
   "cell_type": "markdown",
   "metadata": {
    "id": "prKGt8bzScNA"
   },
   "source": [
    "### Exercise 01:\n",
    "\n",
    "Working with data files.\n",
    "\n",
    "Find the name and population of the 3 cities that are geographically closest to the world's most populous city.\n",
    "\n",
    "# 🤔😱\n"
   ]
  },
  {
   "cell_type": "markdown",
   "metadata": {
    "id": "FKsnl_NYTSk0"
   },
   "source": [
    "#### Load Data:\n",
    "\n",
    "Let's break this down into a few sub-problems.\n",
    "\n",
    "First, let's load a JSON file that has information about large cities in the world.\n",
    "\n",
    "The file at this [URL](https://raw.githubusercontent.com/PSAM-5020-2025S-A/5020-utils/main/datasets/json/cities50k.json) has a list of cities formatted like this:\n",
    "\n",
    "```py\n",
    "{\n",
    "  \"name\": \"Pittsburgh\",\n",
    "  \"country\": \"US\",\n",
    "  \"admin1\": \"Pennsylvania\",\n",
    "  \"lat\": 40.4406200,\n",
    "  \"lon\": -79.9958900,\n",
    "  \"pop\": 304391\n",
    "}\n",
    "```\n",
    "\n",
    "This is just like how we loaded ANSUR data files in class:"
   ]
  },
  {
   "cell_type": "code",
   "execution_count": null,
   "metadata": {},
   "outputs": [],
   "source": [
    "# Define the location of the json file here\n",
    "CITIES_FILE = \"https://raw.githubusercontent.com/PSAM-5020-2025F-A/5020-utils/main/datasets/json/cities50k.json\"\n",
    "\n",
    "# Use the object_from_json_url() function to load contents from \n",
    "# the json file into a Python object called \"info_cities\"\n",
    "\n",
    "info_cities = object_from_json_url(CITIES_FILE)"
   ]
  },
  {
   "cell_type": "markdown",
   "metadata": {
    "id": "KeWkaI_lYzIE"
   },
   "source": [
    "#### Exercise 01A:\n",
    "\n",
    "Ok. We should now have a list of objects with information about cities.\n",
    "\n",
    "Explore the data and answer the following questions:\n",
    "- How many cities are in this list?\n",
    "- What's the name of the first city on the list?\n",
    "- What are the latitude and longitude of the last city on the list?\n",
    "- What are the populations for the largest and smallest cities?\n",
    "- What's the name of the city with the largest population?\n"
   ]
  },
  {
   "cell_type": "code",
   "execution_count": null,
   "metadata": {
    "tags": [
     "work_cell"
    ]
   },
   "outputs": [],
   "source": [
    "# Work on 01A here\n",
    "\n",
    "# How many cities are in the list?\n",
    "\n",
    "# len() calculates the length of the list. As each row represents a different city, the len will return the total number of cities\n",
    "num_cities = len(info_cities)\n",
    "print(\"cities in the list: \", num_cities)\n",
    "\n",
    "# What's the name of the first city on the list?\n",
    "\n",
    "# dict[key] returns the value for a specific key in a dictionary.\n",
    "# Combined with list[index], it will be restricted to that element (dictionary) of the list\n",
    "first_city = info_cities[0][\"name\"]\n",
    "print(\"name of first city: \", first_city)\n",
    "\n",
    "# What are the latitude and longitude of the last city on the list?\n",
    "\n",
    "last_latitude = info_cities[-1][\"lat\"]\n",
    "last_longitude = info_cities[-1][\"lon\"]\n",
    "print(\"latitude of last city: \", last_latitude)\n",
    "print(\"longitude of last city: \", last_longitude)\n",
    "\n",
    "# What are the populations for the largest and smallest cities?\n",
    "\n",
    "# defining the key-function popKey, which receives a city dictionary and returns only the population value in order to compare them.\n",
    "# This will be useful to calculate the max and min comparing only those values for each city dictionary in the info_cities list.\n",
    "# The max and min could also be calculated with a loop that iterates over every city in the list to extract their pops and append them to an array,\n",
    "# from which the max and min values could be selected. But in that case, the city names would get lost in the process.\n",
    "def popKey(city):\n",
    "    return city[\"pop\"]\n",
    "\n",
    "# population for the largest city \n",
    "largest_city = max(info_cities, key=popKey)\n",
    "largest_population = largest_city[\"pop\"]\n",
    "\n",
    "# population for the smallest city\n",
    "smallest_city = min(info_cities, key=popKey) \n",
    "smallest_population = smallest_city[\"pop\"]\n",
    "\n",
    "print(\"populations for largest and smallest cities: \", largest_population, smallest_population)\n",
    "\n",
    "# What's the name of the city with the largest population?\n",
    "\n",
    "largest_city_name = largest_city[\"name\"]\n",
    "\n",
    "print(\"city with largest population: \", largest_city_name)\n"
   ]
  },
  {
   "cell_type": "markdown",
   "metadata": {},
   "source": [
    "#### Test 01A"
   ]
  },
  {
   "cell_type": "code",
   "execution_count": null,
   "metadata": {},
   "outputs": [],
   "source": [
    "# Test 01A\n",
    "answers = [num_cities, first_city, last_latitude, last_longitude, largest_population, smallest_population, largest_city_name]\n",
    "\n",
    "Tests.test(\"01A\", answers)"
   ]
  },
  {
   "cell_type": "markdown",
   "metadata": {
    "id": "nJylXsSrZ7DH"
   },
   "source": [
    "#### Exercise 01B:\n",
    "\n",
    "We have the largest city's name and population, but we need its position.\n",
    "\n",
    "We can recycle some of the logic from above to get the whole object that contains information for the largest city."
   ]
  },
  {
   "cell_type": "code",
   "execution_count": null,
   "metadata": {
    "tags": [
     "work_cell"
    ]
   },
   "outputs": [],
   "source": [
    "# Work on 01B here\n",
    "\n",
    "largest_city = max(info_cities, key=popKey)\n",
    "\n",
    "print(\"object with complete information for the largest city: \", largest_city)\n"
   ]
  },
  {
   "cell_type": "code",
   "execution_count": null,
   "metadata": {},
   "outputs": [],
   "source": [
    "# Test 01B\n",
    "Tests.test(\"01B\", largest_city)"
   ]
  },
  {
   "cell_type": "markdown",
   "metadata": {
    "id": "nJylXsSrZ7DH"
   },
   "source": [
    "#### Exercise 01C:\n",
    "\n",
    "We should have all info about the largest city here.\n",
    "\n",
    "Now, we'll iterate through the list and use each city's latitude and longitude to calculate its distance from the largest city.\n",
    "\n",
    "Althought not $100\\%$ correct, it's ok to use the [2D Euclidean distances](https://en.wikipedia.org/wiki/Euclidean_distance#Two_dimensions) for this.\n",
    "\n",
    "Could be useful to define a function `distance(cityA, cityB)` that returns the distance between two cities."
   ]
  },
  {
   "cell_type": "code",
   "execution_count": null,
   "metadata": {
    "tags": [
     "work_cell"
    ]
   },
   "outputs": [],
   "source": [
    "# Work on 01C here\n",
    "\n",
    "# Implement the helper function for calculating distances between 2 cities\n",
    "\n",
    "# importing math to use math.sqrt \n",
    "import math\n",
    "\n",
    "def distance(cityA, cityB):\n",
    "    latA = cityA[\"lat\"]\n",
    "    lonA = cityA[\"lon\"]    \n",
    "    latB = cityB[\"lat\"]\n",
    "    lonB = cityB[\"lon\"]\n",
    "    latdiff = latA - latB\n",
    "    londiff = lonA - lonB\n",
    "\n",
    "    distance = math.sqrt((latdiff ** 2) + (londiff ** 2))\n",
    "\n",
    "    return distance\n"
   ]
  },
  {
   "cell_type": "code",
   "execution_count": null,
   "metadata": {},
   "outputs": [],
   "source": [
    "# Test 01C\n",
    "Tests.test(\"01C\", distance)"
   ]
  },
  {
   "cell_type": "markdown",
   "metadata": {
    "id": "27RWtZVJeRp4"
   },
   "source": [
    "#### Exercise 01D:\n",
    "\n",
    "Ok. We implemented a function to calculate the distance between 2 cities, let's use it now.\n",
    "\n",
    "Iterate through the list of cities again, calculate the distance from each city to the largest city, and add that as a new feature/key to each city's entry:\n",
    "\n",
    "```py\n",
    "{\n",
    "  \"name\": \"Pittsburgh\",\n",
    "  \"country\": \"US\",\n",
    "  \"admin1\": \"Pennsylvania\",\n",
    "  \"lat\": 40.4406200,\n",
    "  \"lon\": -79.9958900,\n",
    "  \"pop\": 304391,\n",
    "  \"distance\": 1222.32\n",
    "}\n",
    "```\n",
    "\n",
    "Just make sure the key that holds the distance value is called `distance`."
   ]
  },
  {
   "cell_type": "code",
   "execution_count": null,
   "metadata": {
    "tags": [
     "work_cell"
    ]
   },
   "outputs": [],
   "source": [
    "# Work on 01D here\n",
    "\n",
    "# Now calculate every city's distance from the largest city and\n",
    "# add that info to each city's entry or save that on a new list\n",
    "# with their name and pop\n",
    "\n",
    "# defining a new empty list for storing each city's name, pop, and distance to the largest city\n",
    "city_distances = []\n",
    "# looping through every city\n",
    "for city in info_cities:\n",
    "    # adding distance to largest city as a new key-value pair in the info_cities list\n",
    "    city['distance'] = distance(city, largest_city)\n",
    "    # also appending these elements to the list city_distances (which will be a list of objects)\n",
    "    city_distances.append({\"name\" : city['name'], \"pop\" : city['pop'], \"distance\" : city['distance']})\n"
   ]
  },
  {
   "cell_type": "code",
   "execution_count": null,
   "metadata": {},
   "outputs": [],
   "source": [
    "# Test 01D\n",
    "Tests.test(\"01D\", info_cities)"
   ]
  },
  {
   "cell_type": "markdown",
   "metadata": {
    "id": "xJG6V-DufauE"
   },
   "source": [
    "#### Exercise 01E:\n",
    "\n",
    "Now, sort the array from the previous step by distance and get the name and population of the $3$ cities closest to the largest city, but not including the largest city. In other words, if you sort the list from the exercise above by ascending `distance`, the $3$ cities closest to the largest city will be in the slice `[1:4]`. The city at index $0$ is the city with the largest population, and should have a distance of $0$ from itself.\n",
    "\n",
    "The answer should be an object where its keys are city names and values are populations.\n",
    "\n",
    "Something like:\n",
    "\n",
    "```python\n",
    "closest_3 = {\n",
    "  \"pittsburgh\": 23412,\n",
    "  \"liverpool\": 172821,\n",
    "  \"oakland\": 182726\n",
    "}\n",
    "```\n",
    "\n",
    "We saw how to sort lists of objects in lecture."
   ]
  },
  {
   "cell_type": "code",
   "execution_count": null,
   "metadata": {
    "tags": [
     "work_cell"
    ]
   },
   "outputs": [],
   "source": [
    "# Work on 01E here\n",
    "\n",
    "# Sort the array and get the name and population of the 3 cities closest to the largest city\n",
    "\n",
    "# creating a key-function to sort the list of objects city_distances by distance\n",
    "def distanceKey(city):\n",
    "    return city[\"distance\"]\n",
    "\n",
    "# sorting the list in ascending order\n",
    "cities_by_distance = sorted(city_distances, key = distanceKey)\n",
    "print(cities_by_distance)\n",
    "closest_3 = {cities_by_distance[1][\"name\"] : cities_by_distance[1][\"pop\"],\n",
    "             cities_by_distance[2][\"name\"] : cities_by_distance[2][\"pop\"],\n",
    "             cities_by_distance[3][\"name\"] : cities_by_distance[3][\"pop\"]}\n"
   ]
  },
  {
   "cell_type": "code",
   "execution_count": null,
   "metadata": {},
   "outputs": [],
   "source": [
    "# Test 01E\n",
    "Tests.test(\"01E\", closest_3)"
   ]
  },
  {
   "cell_type": "markdown",
   "metadata": {
    "id": "nengUZA4WfPb"
   },
   "source": [
    "### Exercise 02:\n",
    "\n",
    "Visualizing data files.\n"
   ]
  },
  {
   "cell_type": "markdown",
   "metadata": {
    "id": "mvoFMxi1dQEc"
   },
   "source": [
    "#### Loading The Data:\n",
    "\n",
    "Let's load a JSON file that has information about houses in the Los Angeles metropolitan region of California.\n",
    "\n",
    "The file at this [url](https://raw.githubusercontent.com/PSAM-5020-2025S-A/5020-utils/main/datasets/json/LA_housing.json) has a list of objects formatted like this:\n",
    "\n",
    "```python\n",
    "{\n",
    "  \"longitude\": -114.310,\n",
    "  \"latitude\": 34.190,\n",
    "  \"age\": 15,\n",
    "  \"rooms\": 12.234,\n",
    "  \"bedrooms\": 3.514,\n",
    "  \"value\": 669000\n",
    "}\n",
    "```\n",
    "\n",
    "The number of rooms and bedrooms are not integers because some addresses have multiple units/apartments with different floorplans that get averaged."
   ]
  },
  {
   "cell_type": "code",
   "execution_count": null,
   "metadata": {
    "id": "S2bnMyEoWmxL",
    "tags": []
   },
   "outputs": [],
   "source": [
    "# Define the location of the json file\n",
    "HOUSES_FILE = \"https://raw.githubusercontent.com/PSAM-5020-2025F-A/5020-utils/main/datasets/json/LA_housing.json\"\n",
    "\n",
    "# Use the object_from_json_url() function to load\n",
    "# the json file into a Python object called \"info_houses\"\n",
    "\n",
    "info_houses = object_from_json_url(HOUSES_FILE)"
   ]
  },
  {
   "cell_type": "markdown",
   "metadata": {
    "id": "w_oZ0_CogIiM"
   },
   "source": [
    "#### Exercise 02A:\n",
    "\n",
    "Explore the data and answer the following questions:\n",
    "- How many instances are there in our dataset?\n",
    "- What's the value of the most expensive house?\n",
    "- What's the max number of bedrooms in a house?\n",
    "- What's the number of bedrooms in the house with the most rooms?\n",
    "- What's the number of rooms in the house with the most bedrooms?"
   ]
  },
  {
   "cell_type": "code",
   "execution_count": null,
   "metadata": {
    "tags": [
     "work_cell"
    ]
   },
   "outputs": [],
   "source": [
    "# Work on 02A here\n",
    "\n",
    "# How many instances are there in our dataset?\n",
    "# This is the same as asking \"how many rows\" or, in this case, \"how many houses\"\n",
    "\n",
    "num_houses = 0\n",
    "\n",
    "\n",
    "# What's the value of the most expensive house?\n",
    "\n",
    "max_value = 0\n",
    "\n",
    "\n",
    "# What's the number of bedrooms in the house with the most bedrooms?\n",
    "\n",
    "most_bedrooms = 0\n",
    "\n",
    "\n",
    "# What's the number of bedrooms in the house with the most rooms?\n",
    "\n",
    "bedrooms_in_most_rooms = 0\n",
    "\n",
    "\n",
    "# What's the number of rooms in the house with the most bedrooms?\n",
    "\n",
    "rooms_in_most_bedrooms = 0\n"
   ]
  },
  {
   "cell_type": "code",
   "execution_count": null,
   "metadata": {},
   "outputs": [],
   "source": [
    "# Test 02A\n",
    "answers = [num_houses, max_value, most_bedrooms, bedrooms_in_most_rooms, rooms_in_most_bedrooms]\n",
    "\n",
    "Tests.test(\"02A\", answers)"
   ]
  },
  {
   "cell_type": "markdown",
   "metadata": {
    "id": "sy2gQI7_hNTC"
   },
   "source": [
    "#### Exercise 02B:\n",
    "\n",
    "Which of the features (`longitude`, `latitude`, `age`, `rooms` or `bedrooms`) is a better indicator for value of a house?\n",
    "\n",
    "We're going to use XY scatter plots to visualize house value as a function of each of these features, and see if any of them show strong correlation.\n",
    "\n",
    "Documentation for the plotting library is here:\n",
    "https://matplotlib.org/stable/api/_as_gen/matplotlib.pyplot.scatter.html\n",
    "\n",
    "One thing to note is that the functions for plotting like to get lists of values and not lists of objects.\n",
    "\n",
    "Before we plot anything, let's define a function `list_from_key(objs, key)` that returns a list with all values of feature `key` for all of the objects in `objs`."
   ]
  },
  {
   "cell_type": "code",
   "execution_count": null,
   "metadata": {
    "tags": [
     "work_cell"
    ]
   },
   "outputs": [],
   "source": [
    "# Work on 02B here\n",
    "\n",
    "# helper function to get lists of values from specific key\n",
    "def list_from_key(objs, key):\n",
    "  # TODO: implement the list_from_key functionality\n",
    "  return []\n"
   ]
  },
  {
   "cell_type": "code",
   "execution_count": null,
   "metadata": {},
   "outputs": [],
   "source": [
    "# Test 02B\n",
    "Tests.test(\"02B\", list_from_key)"
   ]
  },
  {
   "cell_type": "markdown",
   "metadata": {},
   "source": [
    "#### Exercise 02C:\n",
    "\n",
    "Now we can actually plot some values and start looking for correlations.\n",
    "\n",
    "Pick a feature and make a graph that shows house prices as a function of that feature.\n",
    "\n",
    "You can also write a for loop to plot graphs for all features."
   ]
  },
  {
   "cell_type": "code",
   "execution_count": null,
   "metadata": {
    "tags": [
     "work_cell"
    ]
   },
   "outputs": [],
   "source": [
    "# Work on 02C here\n",
    "\n",
    "# TODO: get a list with all of the price values\n",
    "prices = []\n",
    "\n",
    "# TODO: get a list with all of the house ages (for example)\n",
    "house_ages = []\n",
    "\n",
    "\n",
    "# this is the command to plot a XY scatter plot from 2 lists\n",
    "# see documentation: https://matplotlib.org/stable/api/_as_gen/matplotlib.pyplot.scatter.html\n",
    "\n",
    "plt.scatter(house_ages, prices)\n",
    "plt.xlabel(\"age\")\n",
    "plt.ylabel(\"value\")\n",
    "plt.show()"
   ]
  },
  {
   "cell_type": "markdown",
   "metadata": {},
   "source": [
    "#### What are some features that correlate with price ?"
   ]
  },
  {
   "cell_type": "markdown",
   "metadata": {
    "tags": [
     "work_cell"
    ]
   },
   "source": [
    "### <span style=\"color:hotpink\">Interpretation</span>\n",
    "\n",
    "<span style=\"color:hotpink\">Answer 02C here. Double-click to edit Markdown.</span>"
   ]
  },
  {
   "cell_type": "markdown",
   "metadata": {
    "id": "UTMOs6zJsWbN"
   },
   "source": [
    "#### Foreshadowing:\n",
    "\n",
    "What if we use two features at a time?\n",
    "\n",
    "Is there a pair of features (`longitude`, `latitude`, `age`, `rooms` or `bedrooms`) that correlates to house value?\n",
    "\n",
    "We could look at the relationship between `price`, `age` and `rooms`:"
   ]
  },
  {
   "cell_type": "code",
   "execution_count": null,
   "metadata": {
    "id": "JdA6xihhraSa",
    "tags": []
   },
   "outputs": [],
   "source": [
    "# get a list with all of the price values\n",
    "prices = list_from_key(info_houses, \"value\")\n",
    "\n",
    "# get a list with all of the values of one feature\n",
    "feature_0_values = list_from_key(info_houses, \"age\")\n",
    "\n",
    "# get a list with all of the values of another feature\n",
    "feature_1_values = list_from_key(info_houses, \"rooms\")\n",
    "\n",
    "# this is how we plot an XY scatter plot using 3 lists\n",
    "# see documentation: https://matplotlib.org/stable/api/_as_gen/matplotlib.pyplot.scatter.html\n",
    "\n",
    "plt.scatter(feature_0_values, feature_1_values, c=prices, alpha=0.3)\n",
    "plt.xlabel(\"age\")\n",
    "plt.ylabel(\"rooms\")\n",
    "plt.show()"
   ]
  },
  {
   "cell_type": "markdown",
   "metadata": {},
   "source": [
    "Or, we could write a little for loop to plot all possible pairs of features:"
   ]
  },
  {
   "cell_type": "code",
   "execution_count": null,
   "metadata": {
    "tags": []
   },
   "outputs": [],
   "source": [
    "# to plot all feature pairs\n",
    "# get list of all features\n",
    "features = info_houses[0].keys()\n",
    "prices = list_from_key(info_houses, \"value\")\n",
    "\n",
    "# get all pairs of features\n",
    "for idx_0, feature_0 in enumerate(features):\n",
    "  x = list_from_key(info_houses, feature_0)\n",
    "  for idx_1, feature_1 in enumerate(features):\n",
    "    y = list_from_key(info_houses, feature_1)\n",
    "    # skip repeated features\n",
    "    if feature_0 != \"value\" and feature_1 != \"value\" and idx_1 > idx_0:\n",
    "      plt.scatter(x, y, c=prices, alpha=0.3)\n",
    "      plt.xlabel(feature_0)\n",
    "      plt.ylabel(feature_1)\n",
    "      plt.show()"
   ]
  }
 ],
 "metadata": {
  "colab": {
   "authorship_tag": "ABX9TyPxe2qYxIG7EblrvD1C4Pmv",
   "provenance": []
  },
  "kernelspec": {
   "display_name": "Python 3",
   "language": "python",
   "name": "python3"
  },
  "language_info": {
   "codemirror_mode": {
    "name": "ipython",
    "version": 3
   },
   "file_extension": ".py",
   "mimetype": "text/x-python",
   "name": "python",
   "nbconvert_exporter": "python",
   "pygments_lexer": "ipython3",
   "version": "3.10.18"
  }
 },
 "nbformat": 4,
 "nbformat_minor": 0
}
